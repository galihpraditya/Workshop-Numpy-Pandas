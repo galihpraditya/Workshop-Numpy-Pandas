{
 "cells": [
  {
   "cell_type": "markdown",
   "id": "d947b9cf-215c-4b18-a0b8-963556c547c7",
   "metadata": {},
   "source": [
    "# **TUGAS NUMPY**\n",
    "\n",
    "---\n",
    "\n",
    "Nama: Galih Praditya Kurniawan\n",
    "\n",
    "NIM: 245150201111017"
   ]
  },
  {
   "cell_type": "markdown",
   "id": "392630c3-e396-4dde-8258-cfd1085fd39d",
   "metadata": {},
   "source": [
    "Setelah mengikuti workshop Numpy dan Pandas, tentunya kalian sudah mulai memahami hal-hal apa saja yang akan dilakukan oleh Data Scientist dengan Numpy. Sekarang, saatnya mengukur kemampuan kalian dari apa yang telah kalian dapatkan pada workshop sebelumnya.\n",
    "\n",
    "**Deadline: Jumat, 21 Februari 2025**\n"
   ]
  },
  {
   "cell_type": "markdown",
   "id": "eca339fb-851e-47d9-92a3-8811c04207ed",
   "metadata": {},
   "source": [
    "# **📊 Numpy Exercise 📊**\n",
    "\n",
    "Selamat datang di latihan eksplorasi data menggunakan **Numpy**!  \n",
    "\n",
    "---"
   ]
  },
  {
   "cell_type": "markdown",
   "id": "ee73dcd6-dd10-4c9c-88ca-0eab4af9f337",
   "metadata": {},
   "source": [
    "## **📌 Soal 1: Regresi Linear** 📝\n",
    "\n",
    "Saat offline/online assessment kemarin ada persoalaan **Regresi Linear**, nah coba kamu buat menggunakan python dan numpy termasuk poin-poin berikut: <br>\n",
    "✅ Fungsi regresi mampu menerima array A dan array B dan memprediksi slope dan intercept<br>\n",
    "✅ Fungsi regresi mampu memprediksi nilai baru jika diberikan nilai X <br>"
   ]
  },
  {
   "cell_type": "code",
   "execution_count": 58,
   "id": "cbc3cb08-4559-41f8-ad23-1889bd6b5e7d",
   "metadata": {},
   "outputs": [
    {
     "name": "stdout",
     "output_type": "stream",
     "text": [
      "Nilai y untuk x = 6 adalah: 12.2\n"
     ]
    }
   ],
   "source": [
    "import numpy as np\n",
    "\n",
    "def linear_regression(arr1, arr2, x):\n",
    "    \n",
    "    arr1_mean = np.mean(arr1)\n",
    "    arr2_mean = np.mean(arr2)\n",
    "\n",
    "    numerator = np.sum((arr1 - arr1_mean) * (arr2 - arr2_mean))\n",
    "    denominator = np.sum((arr1 - arr1_mean) ** 2)\n",
    "\n",
    "    slope = numerator / denominator\n",
    "    intercept = arr2_mean - slope * arr1_mean\n",
    "\n",
    "    y = slope * x + intercept\n",
    "\n",
    "    return y\n",
    "\n",
    "arr1 = np.array([1, 2, 3, 4, 5])\n",
    "arr2 = np.array([2, 3, 5, 7, 11])\n",
    "x = 6\n",
    "\n",
    "y_pred = linear_regression(arr1, arr2, x)\n",
    "print(f\"Nilai y untuk x = {x} adalah: {y_pred}\")"
   ]
  },
  {
   "cell_type": "markdown",
   "id": "a01ab4fc-cd05-4c79-bc0e-35f2412477d2",
   "metadata": {},
   "source": [
    "## **📌 Soal 2: Regresi Polinomial** 📝\n",
    "\n",
    "Saat offline/online assessment kemarin ada persoalan **Regresi Linear**, nah sekarang coba kamu buat **Regresi Polinomial** menggunakan Python dan NumPy, termasuk poin-poin berikut:<br>\n",
    "✅ Fungsi regresi mampu menerima array A dan array B serta menyesuaikan data dengan polinomial derajat tertentu.<br>\n",
    "✅ Fungsi regresi mampu memprediksi nilai baru jika diberikan nilai X.<br>\n",
    "✅ Hasil regresi mencetak koefisien polinomial yang dihasilkan.<br>"
   ]
  },
  {
   "cell_type": "code",
   "execution_count": 59,
   "id": "efaa13de-f42c-43e8-b726-3d4d849807ad",
   "metadata": {},
   "outputs": [
    {
     "name": "stdout",
     "output_type": "stream",
     "text": [
      "Nilai y untuk x = 6 adalah: 15.200000000000026\n"
     ]
    }
   ],
   "source": [
    "def polynomial_regression_predict(arr1, arr2, degree, x):\n",
    "    \n",
    "    coefficients = np.polyfit(arr1, arr2, degree)\n",
    "    \n",
    "    polynomial = np.poly1d(coefficients)\n",
    "    \n",
    "    y = polynomial(x)\n",
    "    \n",
    "    return y\n",
    "\n",
    "arr1 = np.array([1, 2, 3, 4, 5])\n",
    "arr2 = np.array([2, 3, 5, 7, 11])\n",
    "degree = 2 \n",
    "x = 6\n",
    "\n",
    "y_pred = polynomial_regression_predict(arr1, arr2, degree, x)\n",
    "print(f\"Nilai y untuk x = {x} adalah: {y_pred}\")"
   ]
  },
  {
   "cell_type": "markdown",
   "id": "e187c964-3ab2-4ae3-a52c-4e6052c30911",
   "metadata": {},
   "source": [
    "## **📌 Soal 3: Random Values Array** 📝\n",
    "\n",
    "Pertama-tama, buatlah **Array Integer 10x10x10** dengan elemen **random** dan carikan:<br>\n",
    "1️⃣ Cari elemen minimum dan maksimum dalam array tersebut?<br>\n",
    "2️⃣ Carilah rata-rata dan median seluruh elemen dalam array tersebut?<br>"
   ]
  },
  {
   "cell_type": "code",
   "execution_count": 60,
   "id": "ba1aa95d-56ce-4834-8d73-7e27e4cc1901",
   "metadata": {},
   "outputs": [
    {
     "name": "stdout",
     "output_type": "stream",
     "text": [
      "Min: 0.0005044840333136014\n",
      "Max: 0.9997591255032953\n"
     ]
    }
   ],
   "source": [
    "arr_random = np.random.rand(10,10, 10)\n",
    "min = np.min(arr_random)\n",
    "max = np.max(arr_random)\n",
    "print(\"Min:\", min)\n",
    "print(\"Max:\", max)"
   ]
  },
  {
   "cell_type": "code",
   "execution_count": 61,
   "id": "c7cd0420-9393-449a-bcec-e5947b24b327",
   "metadata": {},
   "outputs": [
    {
     "name": "stdout",
     "output_type": "stream",
     "text": [
      "Mean: 0.49488304367429337\n",
      "Median: 0.4984119769701672\n"
     ]
    }
   ],
   "source": [
    "mean = np.mean(arr_random)\n",
    "median = np.median(arr_random)\n",
    "print(\"Mean:\", mean)\n",
    "print(\"Median:\", median)"
   ]
  },
  {
   "cell_type": "markdown",
   "id": "1f248c96-688d-462a-b41e-5a2275be5fde",
   "metadata": {},
   "source": [
    "## **📌 Soal 4: 2D Array Shenanigans** 📝\n",
    "\n",
    "Tugas kamu disini adalah membuat **Array 2D** sesuai ketentuan masing-masing soal: <br>\n",
    "1️⃣ Buatlah **array 10x10** yang memiliki angka \"5\" sebagai bingkai di seluruh tepi luar dan bagian dalam (selain array) berisi \"8\"? <br>\n",
    "2️⃣ Buatlah **array 2d 8x8** dengan pola seperti **checkboard/catur** (1 untuk kotak hitam, 0 untuk kotak putih)?<br>\n",
    "3️⃣ Buatlah **array 2d 15x15** dengan aturan sebagai berikut:\n",
    "- Jika suatu angka dapat dibagi 2, isi dengan 2.\n",
    "- Jika suatu angka dapat dibagi 3, isi dengan 3.\n",
    "- Jika suatu angka dapat dibagi 5, isi dengan 5.\n",
    "- Jika suatu angka dapat dibagi oleh lebih dari satu kondisi (misal, 6 bisa dibagi 2 & 3), maka simpan gabungan angka tersebut (misal, 6 → \"23\", 15 → \"35\").\n",
    "- Jika tidak memenuhi kondisi apa pun, isi dengan 0."
   ]
  },
  {
   "cell_type": "code",
   "execution_count": 62,
   "id": "e4974640-df15-43f7-9ae5-fdc8ff8f47dd",
   "metadata": {},
   "outputs": [
    {
     "name": "stdout",
     "output_type": "stream",
     "text": [
      "[[5 5 5 5 5 5 5 5 5 5]\n",
      " [5 8 8 8 8 8 8 8 8 5]\n",
      " [5 8 8 8 8 8 8 8 8 5]\n",
      " [5 8 8 8 8 8 8 8 8 5]\n",
      " [5 8 8 8 8 8 8 8 8 5]\n",
      " [5 8 8 8 8 8 8 8 8 5]\n",
      " [5 8 8 8 8 8 8 8 8 5]\n",
      " [5 8 8 8 8 8 8 8 8 5]\n",
      " [5 8 8 8 8 8 8 8 8 5]\n",
      " [5 5 5 5 5 5 5 5 5 5]]\n"
     ]
    }
   ],
   "source": [
    "arr1 = np.full((10, 10), 8)\n",
    "\n",
    "arr1[0, :] = 5 \n",
    "arr1[-1, :] = 5\n",
    "arr1[:, 0] = 5\n",
    "arr1[:, -1] = 5\n",
    "\n",
    "print(arr1)"
   ]
  },
  {
   "cell_type": "code",
   "execution_count": 63,
   "id": "0af5bcce-4fe7-489e-a23e-24e7ca11108f",
   "metadata": {},
   "outputs": [
    {
     "name": "stdout",
     "output_type": "stream",
     "text": [
      "[[0 1 0 1 0 1 0 1]\n",
      " [1 0 1 0 1 0 1 0]\n",
      " [0 1 0 1 0 1 0 1]\n",
      " [1 0 1 0 1 0 1 0]\n",
      " [0 1 0 1 0 1 0 1]\n",
      " [1 0 1 0 1 0 1 0]\n",
      " [0 1 0 1 0 1 0 1]\n",
      " [1 0 1 0 1 0 1 0]]\n"
     ]
    }
   ],
   "source": [
    "arr2 = np.zeros((8, 8), dtype=int)\n",
    "arr2[1::2, ::2] = 1\n",
    "arr2[::2, 1::2] = 1\n",
    "\n",
    "print(arr2)"
   ]
  },
  {
   "cell_type": "code",
   "execution_count": 64,
   "id": "5e591f0a-78d8-47e4-97d5-d56bff180984",
   "metadata": {},
   "outputs": [
    {
     "name": "stdout",
     "output_type": "stream",
     "text": [
      "[[0 '2' '3' '2' '5' '23' 0 '2' '3' '25' 0 '23' 0 '2' '35']\n",
      " ['2' 0 '23' 0 '25' '3' '2' 0 '23' '5' '2' '3' '2' 0 '235']\n",
      " [0 '2' '3' '2' '5' '23' 0 '2' '3' '25' 0 '23' 0 '2' '35']\n",
      " ['2' 0 '23' 0 '25' '3' '2' 0 '23' '5' '2' '3' '2' 0 '235']\n",
      " [0 '2' '3' '2' '5' '23' 0 '2' '3' '25' 0 '23' 0 '2' '35']\n",
      " ['2' 0 '23' 0 '25' '3' '2' 0 '23' '5' '2' '3' '2' 0 '235']\n",
      " [0 '2' '3' '2' '5' '23' 0 '2' '3' '25' 0 '23' 0 '2' '35']\n",
      " ['2' 0 '23' 0 '25' '3' '2' 0 '23' '5' '2' '3' '2' 0 '235']\n",
      " [0 '2' '3' '2' '5' '23' 0 '2' '3' '25' 0 '23' 0 '2' '35']\n",
      " ['2' 0 '23' 0 '25' '3' '2' 0 '23' '5' '2' '3' '2' 0 '235']\n",
      " [0 '2' '3' '2' '5' '23' 0 '2' '3' '25' 0 '23' 0 '2' '35']\n",
      " ['2' 0 '23' 0 '25' '3' '2' 0 '23' '5' '2' '3' '2' 0 '235']\n",
      " [0 '2' '3' '2' '5' '23' 0 '2' '3' '25' 0 '23' 0 '2' '35']\n",
      " ['2' 0 '23' 0 '25' '3' '2' 0 '23' '5' '2' '3' '2' 0 '235']\n",
      " [0 '2' '3' '2' '5' '23' 0 '2' '3' '25' 0 '23' 0 '2' '35']]\n"
     ]
    }
   ],
   "source": [
    "array = np.zeros((15, 15), dtype=object)\n",
    "\n",
    "num = 1\n",
    "\n",
    "for i in range(15):\n",
    "    for j in range(15):\n",
    "        result = \"\"\n",
    "        \n",
    "        if num % 2 == 0:\n",
    "            result += \"2\"\n",
    "        if num % 3 == 0:\n",
    "            result += \"3\"\n",
    "        if num % 5 == 0:\n",
    "            result += \"5\"\n",
    "        \n",
    "        if result == \"\":\n",
    "            array[i, j] = 0\n",
    "        else:\n",
    "            array[i, j] = result\n",
    "\n",
    "        num+=1\n",
    "\n",
    "print(array)"
   ]
  },
  {
   "cell_type": "markdown",
   "id": "4b963ba6-4272-4773-ab58-33ade2e536bd",
   "metadata": {},
   "source": [
    "## **📌 Soal 5: Time & Date** 📝\n",
    "\n",
    "Kamu disini diminta untuk memanfaatkan fitur numpy untuk tanggal: <br>\n",
    "1️⃣ Bagaimana dengan numpy, kamu bisa mendapatkan tanggal hari ini, kemarin dan esok hari?<br>\n",
    "2️⃣ Tampilkan hari yang ada di bulan Mei tahun 2020?<br>"
   ]
  },
  {
   "cell_type": "code",
   "execution_count": 65,
   "id": "ac7ccf05-97da-484f-96c9-fc578e62bbbe",
   "metadata": {},
   "outputs": [
    {
     "name": "stdout",
     "output_type": "stream",
     "text": [
      "Hari ini: 2025-02-21\n",
      "Kemarin: 2025-02-20\n",
      "Esok hari: 2025-02-22\n"
     ]
    }
   ],
   "source": [
    "today = np.datetime64('today', 'D')\n",
    "print(\"Hari ini:\", today)\n",
    "\n",
    "yesterday = today - np.timedelta64(1, 'D')\n",
    "print(\"Kemarin:\", yesterday)\n",
    "\n",
    "tomorrow = today + np.timedelta64(1, 'D')\n",
    "print(\"Esok hari:\", tomorrow)"
   ]
  },
  {
   "cell_type": "code",
   "execution_count": 66,
   "id": "1d35c129",
   "metadata": {},
   "outputs": [
    {
     "name": "stdout",
     "output_type": "stream",
     "text": [
      "Tanggal di bulan Mei 2020:\n",
      "['2020-05-01' '2020-05-02' '2020-05-03' '2020-05-04' '2020-05-05'\n",
      " '2020-05-06' '2020-05-07' '2020-05-08' '2020-05-09' '2020-05-10'\n",
      " '2020-05-11' '2020-05-12' '2020-05-13' '2020-05-14' '2020-05-15'\n",
      " '2020-05-16' '2020-05-17' '2020-05-18' '2020-05-19' '2020-05-20'\n",
      " '2020-05-21' '2020-05-22' '2020-05-23' '2020-05-24' '2020-05-25'\n",
      " '2020-05-26' '2020-05-27' '2020-05-28' '2020-05-29' '2020-05-30'\n",
      " '2020-05-31']\n"
     ]
    }
   ],
   "source": [
    "dates_may_2020 = np.arange('2020-05-01', '2020-06-01', dtype='datetime64[D]')\n",
    "\n",
    "print(\"Tanggal di bulan Mei 2020:\")\n",
    "print(dates_may_2020)"
   ]
  },
  {
   "cell_type": "markdown",
   "id": "63d149d6-61a5-481c-bc7c-9e1e8b389c28",
   "metadata": {},
   "source": []
  },
  {
   "cell_type": "markdown",
   "id": "eccc9d2f-8a7a-424c-ab89-ad5e52ca20a4",
   "metadata": {},
   "source": [
    "## **📌 Soal 6: Slicing** 📝\n",
    "\n",
    "Jika diketahui array `A`, maka buatlah program untuk mendapatkan elemen dibawah ini:\n",
    "```python\n",
    "A = np.array([\n",
    "    [10, 20, 30, 40, 50, 60],\n",
    "    [70, 80, 90, 100, 110, 120],\n",
    "    [130, 140, 150, 160, 170, 180],\n",
    "    [190, 200, 210, 220, 230, 240],\n",
    "    [250, 260, 270, 280, 290, 300]\n",
    "])\n",
    "```\n",
    "\n",
    "1️⃣ Ambil elemen yang berada pada baris `ke-4` dan kolom `ke-2` dari array `A` <br>\n",
    "2️⃣ Buat `array 2D` yang hanya berisi bilangan prima dari `A` <br>\n",
    "3️⃣ Ambil elemen-elemen yang berada di tepi luar dari array `A` dan gabungkan menjadi `Satu array 1D`. <br>\n",
    "4️⃣ Dapatkan subbarray berikut:\n",
    "```python\n",
    "[[20, 40, 60],\n",
    " [80, 100, 120],\n",
    " [140, 160, 180],\n",
    " [200, 220, 240],\n",
    " [260, 280, 300]]\n",
    "```\n",
    "5️⃣ Dapatkan subbarray berikut:\n",
    "```python\n",
    " [[30, 40],\n",
    " [90, 100],\n",
    " [150, 160],\n",
    " [210, 220]]\n",
    "```"
   ]
  },
  {
   "cell_type": "code",
   "execution_count": 67,
   "id": "4ef1d236-2f82-45f5-a50a-bd202aef8084",
   "metadata": {},
   "outputs": [
    {
     "name": "stdout",
     "output_type": "stream",
     "text": [
      "200\n"
     ]
    }
   ],
   "source": [
    "A = np.array([\n",
    "    [10, 20, 30, 40, 50, 60],\n",
    "    [70, 80, 90, 100, 110, 120],\n",
    "    [130, 140, 150, 160, 170, 180],\n",
    "    [190, 200, 210, 220, 230, 240],\n",
    "    [250, 260, 270, 280, 290, 300]\n",
    "])\n",
    "\n",
    "elemen = A[3, 1]\n",
    "print(elemen)"
   ]
  },
  {
   "cell_type": "code",
   "execution_count": 68,
   "id": "e719e525-cf78-484e-9c40-a708a58b387e",
   "metadata": {},
   "outputs": [
    {
     "name": "stdout",
     "output_type": "stream",
     "text": [
      "[]\n"
     ]
    }
   ],
   "source": [
    "def is_prime(n):\n",
    "    if n < 2:\n",
    "        return False\n",
    "    for i in range(2, int(np.sqrt(n)) + 1):\n",
    "        if n % i == 0:\n",
    "            return False\n",
    "    return True\n",
    "\n",
    "prime_elements = np.array([[x for x in row if is_prime(x)] for row in A])\n",
    "\n",
    "print(prime_elements)"
   ]
  },
  {
   "cell_type": "code",
   "execution_count": 69,
   "id": "f9b0d1e6-c30b-4828-8ad3-0a71367905ba",
   "metadata": {},
   "outputs": [
    {
     "name": "stdout",
     "output_type": "stream",
     "text": [
      "[ 10  20  30  40  50  60 250 260 270 280 290 300  70 130 190 120 180 240]\n"
     ]
    }
   ],
   "source": [
    "top_row = A[0, :]\n",
    "bottom_row = A[-1, :]\n",
    "left_col = A[1:-1, 0]\n",
    "right_col = A[1:-1, -1]\n",
    "\n",
    "edge_elements = np.concatenate((top_row, bottom_row, left_col, right_col))\n",
    "\n",
    "print(edge_elements)"
   ]
  },
  {
   "cell_type": "code",
   "execution_count": 70,
   "id": "cc637fd0-78d7-45f8-b4e8-dbde6c3e6dfc",
   "metadata": {},
   "outputs": [
    {
     "name": "stdout",
     "output_type": "stream",
     "text": [
      "[[ 20  40  60]\n",
      " [ 80 100 120]\n",
      " [140 160 180]\n",
      " [200 220 240]\n",
      " [260 280 300]]\n"
     ]
    }
   ],
   "source": [
    "subarray = A[:, [1, 3, 5]]\n",
    "\n",
    "print(subarray)"
   ]
  },
  {
   "cell_type": "code",
   "execution_count": 71,
   "id": "f52e24b4-98f6-41fe-9aab-8d9d243c16e1",
   "metadata": {},
   "outputs": [
    {
     "name": "stdout",
     "output_type": "stream",
     "text": [
      "[[ 30  40]\n",
      " [ 90 100]\n",
      " [150 160]\n",
      " [210 220]]\n"
     ]
    }
   ],
   "source": [
    "subarray = A[0:4, 2:4]\n",
    "\n",
    "print(subarray)"
   ]
  },
  {
   "cell_type": "markdown",
   "id": "c69b198a-5558-4ca3-8dea-c5a8d1ca81e9",
   "metadata": {},
   "source": [
    "## **📌 Soal 7: Ekspansi Array** 📝\n",
    "\n",
    "Jika kamu memiliki array ***Z = [1,2,3,4,5,6,7,8,9,10,11,12,13,14]***, buatlah kode untuk membuat array R berupa: <br>\n",
    "***R = [[1,2,3,4], [2,3,4,5], [3,4,5,6], ..., [11,12,13,14]]***?"
   ]
  },
  {
   "cell_type": "code",
   "execution_count": 72,
   "id": "6f77ba10-4474-44cd-aa7c-5a6c3940e22a",
   "metadata": {},
   "outputs": [
    {
     "name": "stdout",
     "output_type": "stream",
     "text": [
      "[[ 1  2  3  4]\n",
      " [ 2  3  4  5]\n",
      " [ 3  4  5  6]\n",
      " [ 4  5  6  7]\n",
      " [ 5  6  7  8]\n",
      " [ 6  7  8  9]\n",
      " [ 7  8  9 10]\n",
      " [ 8  9 10 11]\n",
      " [ 9 10 11 12]\n",
      " [10 11 12 13]\n",
      " [11 12 13 14]]\n"
     ]
    }
   ],
   "source": [
    "Z = np.array([1, 2, 3, 4, 5, 6, 7, 8, 9, 10, 11, 12, 13, 14])\n",
    "\n",
    "R = np.array([Z[i:i+4] for i in range(len(Z) - 3)])\n",
    "\n",
    "print(R)"
   ]
  }
 ],
 "metadata": {
  "kernelspec": {
   "display_name": "Python 3",
   "language": "python",
   "name": "python3"
  },
  "language_info": {
   "codemirror_mode": {
    "name": "ipython",
    "version": 3
   },
   "file_extension": ".py",
   "mimetype": "text/x-python",
   "name": "python",
   "nbconvert_exporter": "python",
   "pygments_lexer": "ipython3",
   "version": "3.12.5"
  }
 },
 "nbformat": 4,
 "nbformat_minor": 5
}
